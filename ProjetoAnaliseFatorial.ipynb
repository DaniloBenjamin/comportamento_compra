{
 "cells": [
  {
   "cell_type": "markdown",
   "id": "67e53442",
   "metadata": {},
   "source": [
    "\n",
    "## <font color='blue'>Projeto de Análise Fatorial</font>\n",
    "### <font color='blue'>Principais Fatores Que Determinam o Comportamento de Compra dos Clientes</font>"
   ]
  },
  {
   "cell_type": "markdown",
   "id": "38a848c0",
   "metadata": {},
   "source": [
    "## Definição do Problema de Negócio\n",
    "\n",
    "Imagine que você trabalha para uma grande empresa da área de varejo e os gestores desejam entender quais são os principais fatores que determinam o comportamento de compra dos clientes. \n",
    "\n",
    "Eles têm diversas métricas coletadas sobre os hábitos de compra, mas não têm clareza sobre quais dimensões são as mais relevantes.\n",
    "\n",
    "Essas são as variáveis disponíveis:\n",
    "\n",
    "- **frequencia_compras**: Quantidade de vezes que o cliente compra por mês.\n",
    "- **valor_medio**: Valor médio gasto por compra.\n",
    "- **categoria_mais_comprada**: Valor de 1 a 10 indicando a categoria de produto.\n",
    "- **tempo_loja**: Tempo médio (em minutos) que o cliente passa na loja por visita.\n",
    "- **uso_app**: Pontuação (de 1 a 10) indicando a frequência de uso do aplicativo da loja.\n",
    "\n",
    "Objetivo:\n",
    "\n",
    "Realizar uma análise fatorial para reduzir a dimensionalidade dos dados e identificar os fatores latentes que explicam a maior parte da variância no comportamento de compra dos clientes."
   ]
  },
  {
   "cell_type": "markdown",
   "id": "4e7b4151",
   "metadata": {},
   "source": [
    "## Instalando e Carregando os Pacotes"
   ]
  },
  {
   "cell_type": "markdown",
   "id": "a231f14c",
   "metadata": {},
   "source": [
    "https://pypi.org/project/factor-analyzer/"
   ]
  },
  {
   "cell_type": "code",
   "execution_count": 3,
   "id": "e7438bee",
   "metadata": {},
   "outputs": [],
   "source": [
    "!pip install -q factor_analyzer"
   ]
  },
  {
   "cell_type": "code",
   "execution_count": 4,
   "id": "acef13d8",
   "metadata": {},
   "outputs": [],
   "source": [
    "# Imports\n",
    "import pandas as pd\n",
    "import numpy as np\n",
    "import factor_analyzer\n",
    "from factor_analyzer import FactorAnalyzer\n",
    "from factor_analyzer.factor_analyzer import calculate_bartlett_sphericity\n",
    "from factor_analyzer.factor_analyzer import calculate_kmo\n",
    "import matplotlib.pyplot as plt"
   ]
  },
  {
   "cell_type": "markdown",
   "id": "712c38db",
   "metadata": {},
   "source": [
    "## Carregando os Dados"
   ]
  },
  {
   "cell_type": "markdown",
   "id": "7d34b9c3",
   "metadata": {},
   "source": [
    "Vamos criar um conjunto de dados fictício com informações sobre diferentes métricas de compra de 500 clientes:\n",
    "\n",
    "- **frequencia_compras**: Quantidade de vezes que o cliente compra por mês.\n",
    "- **valor_medio**: Valor médio gasto por compra.\n",
    "- **categoria_mais_comprada**: Valor de 1 a 10 indicando a categoria de produto.\n",
    "- **tempo_loja**: Tempo médio (em minutos) que o cliente passa na loja por visita.\n",
    "- **uso_app**: Pontuação (de 1 a 10) indicando a frequência de uso do aplicativo da loja."
   ]
  },
  {
   "cell_type": "code",
   "execution_count": 6,
   "id": "27da0477",
   "metadata": {},
   "outputs": [],
   "source": [
    "# Valores randômicos para as variáveis\n",
    "frequencia_compras = np.concatenate([np.random.randint(1, 8, 250), np.random.randint(8, 15, 250)])\n",
    "valor_medio = np.concatenate([np.random.uniform(50, 275, 250), np.random.uniform(275, 500, 250)])\n",
    "categoria_mais_comprada = np.concatenate([np.random.randint(1, 6, 250), np.random.randint(6, 11, 250)])\n",
    "tempo_loja = np.concatenate([np.random.uniform(5, 60, 250), np.random.uniform(60, 120, 250)])\n",
    "uso_app = np.concatenate([np.random.randint(1, 6, 250), np.random.randint(6, 11, 250)])"
   ]
  },
  {
   "cell_type": "code",
   "execution_count": 7,
   "id": "46e7c199",
   "metadata": {},
   "outputs": [],
   "source": [
    "# Prepara o dicionário\n",
    "data = {\n",
    "    'frequencia_compras': frequencia_compras,\n",
    "    'valor_medio': valor_medio,\n",
    "    'categoria_mais_comprada': categoria_mais_comprada,\n",
    "    'tempo_loja': tempo_loja,\n",
    "    'uso_app': uso_app\n",
    "}"
   ]
  },
  {
   "cell_type": "code",
   "execution_count": 8,
   "id": "b6d658fa",
   "metadata": {},
   "outputs": [],
   "source": [
    "# Criando o dataframe\n",
    "df = pd.DataFrame(data)"
   ]
  },
  {
   "cell_type": "code",
   "execution_count": 9,
   "id": "10a8ab55",
   "metadata": {},
   "outputs": [
    {
     "data": {
      "text/plain": [
       "(500, 5)"
      ]
     },
     "execution_count": 9,
     "metadata": {},
     "output_type": "execute_result"
    }
   ],
   "source": [
    "df.shape"
   ]
  },
  {
   "cell_type": "code",
   "execution_count": 10,
   "id": "2c21b38d",
   "metadata": {},
   "outputs": [
    {
     "data": {
      "text/html": [
       "<div>\n",
       "<style scoped>\n",
       "    .dataframe tbody tr th:only-of-type {\n",
       "        vertical-align: middle;\n",
       "    }\n",
       "\n",
       "    .dataframe tbody tr th {\n",
       "        vertical-align: top;\n",
       "    }\n",
       "\n",
       "    .dataframe thead th {\n",
       "        text-align: right;\n",
       "    }\n",
       "</style>\n",
       "<table border=\"1\" class=\"dataframe\">\n",
       "  <thead>\n",
       "    <tr style=\"text-align: right;\">\n",
       "      <th></th>\n",
       "      <th>frequencia_compras</th>\n",
       "      <th>valor_medio</th>\n",
       "      <th>categoria_mais_comprada</th>\n",
       "      <th>tempo_loja</th>\n",
       "      <th>uso_app</th>\n",
       "    </tr>\n",
       "  </thead>\n",
       "  <tbody>\n",
       "    <tr>\n",
       "      <th>0</th>\n",
       "      <td>7</td>\n",
       "      <td>103.035025</td>\n",
       "      <td>1</td>\n",
       "      <td>14.383435</td>\n",
       "      <td>2</td>\n",
       "    </tr>\n",
       "    <tr>\n",
       "      <th>1</th>\n",
       "      <td>3</td>\n",
       "      <td>236.237050</td>\n",
       "      <td>2</td>\n",
       "      <td>10.709825</td>\n",
       "      <td>3</td>\n",
       "    </tr>\n",
       "    <tr>\n",
       "      <th>2</th>\n",
       "      <td>3</td>\n",
       "      <td>65.189654</td>\n",
       "      <td>2</td>\n",
       "      <td>48.187090</td>\n",
       "      <td>5</td>\n",
       "    </tr>\n",
       "    <tr>\n",
       "      <th>3</th>\n",
       "      <td>3</td>\n",
       "      <td>109.685870</td>\n",
       "      <td>4</td>\n",
       "      <td>34.536181</td>\n",
       "      <td>5</td>\n",
       "    </tr>\n",
       "    <tr>\n",
       "      <th>4</th>\n",
       "      <td>6</td>\n",
       "      <td>245.909352</td>\n",
       "      <td>1</td>\n",
       "      <td>21.896214</td>\n",
       "      <td>3</td>\n",
       "    </tr>\n",
       "  </tbody>\n",
       "</table>\n",
       "</div>"
      ],
      "text/plain": [
       "   frequencia_compras  valor_medio  categoria_mais_comprada  tempo_loja  \\\n",
       "0                   7   103.035025                        1   14.383435   \n",
       "1                   3   236.237050                        2   10.709825   \n",
       "2                   3    65.189654                        2   48.187090   \n",
       "3                   3   109.685870                        4   34.536181   \n",
       "4                   6   245.909352                        1   21.896214   \n",
       "\n",
       "   uso_app  \n",
       "0        2  \n",
       "1        3  \n",
       "2        5  \n",
       "3        5  \n",
       "4        3  "
      ]
     },
     "execution_count": 10,
     "metadata": {},
     "output_type": "execute_result"
    }
   ],
   "source": [
    "df.head()"
   ]
  },
  {
   "cell_type": "markdown",
   "id": "c7e56e26",
   "metadata": {},
   "source": [
    "## Verificando a Adequação dos Dados com o Teste de Bartlett\n",
    "\n",
    "A função calculate_bartlett_sphericity() é frequentemente usada no contexto da Análise Fatorial para testar a hipótese de esfericidade de Bartlett. A esfericidade refere-se à adequação dos dados para a análise fatorial. Se os dados são perfeitamente esféricos, isso indica que a análise fatorial pode não ser adequada porque as variáveis não estão correlacionadas.\n",
    "\n",
    "Aqui está como interpretar o resultado dessa função:\n",
    "\n",
    "Estatística de teste: É uma quantificação de quanto os seus dados diferem da esfericidade. Valores maiores indicam que as variáveis têm correlações significativas entre si, tornando a análise fatorial potencialmente adequada.\n",
    "\n",
    "Valor-p: Como na maioria dos testes estatísticos, o valor-p ajuda a determinar a significância do teste. Um valor-p baixo (tipicamente menor que 0.05) rejeita a hipótese nula de esfericidade, indicando que as variáveis estão correlacionadas e a análise fatorial pode ser apropriada. Um valor-p alto sugere que os dados são próximos da esfericidade e que as variáveis não estão fortemente correlacionadas, o que pode tornar a análise fatorial menos adequada.\n",
    "\n",
    "Em resumo, para proceder com a análise fatorial:\n",
    "\n",
    "- Se o valor-p for menor que 0.05 (ou outro limiar de significância escolhido), isso indica que as variáveis estão suficientemente correlacionadas para que a análise fatorial seja considerada apropriada.\n",
    "- Se o valor-p for maior que 0.05, deve-se ter cautela ao proceder com a análise fatorial, pois as variáveis podem não estar suficientemente correlacionadas.\n",
    "\n",
    "Lembre-se, no entanto, que a decisão de prosseguir ou não com a análise fatorial não deve ser baseada apenas no teste de esfericidade de Bartlett. Outras considerações e testes, como o teste de Kaiser-Meyer-Olkin (KMO), também devem ser levados em conta ao avaliar a adequação da análise fatorial."
   ]
  },
  {
   "cell_type": "code",
   "execution_count": 11,
   "id": "be7cf796",
   "metadata": {},
   "outputs": [],
   "source": [
    "# Verificando a adequação dos dados\n",
    "chi_square_value, p_value = calculate_bartlett_sphericity(df)"
   ]
  },
  {
   "cell_type": "code",
   "execution_count": 12,
   "id": "d6cf935e",
   "metadata": {},
   "outputs": [
    {
     "name": "stdout",
     "output_type": "stream",
     "text": [
      "Estatística do Teste: 2197.8747454578834 \n",
      "Valor-p: 0.0\n"
     ]
    }
   ],
   "source": [
    "print('Estatística do Teste:', chi_square_value, '\\nValor-p:', p_value)"
   ]
  },
  {
   "cell_type": "markdown",
   "id": "c7ce63e0",
   "metadata": {},
   "source": [
    "> Se o valor-p for menor que 0,05, os dados são adequados para análise fatorial."
   ]
  },
  {
   "cell_type": "markdown",
   "id": "e4622d84",
   "metadata": {},
   "source": [
    "## Verificando a Adequação dos Dados com o Teste de Kaiser-Meyer-Olkin (KMO)\n",
    "\n",
    "O teste Kaiser-Meyer-Olkin (KMO) é outra medida de adequação para a Análise Fatorial (ou Análise de Componentes Principais). O teste KMO avalia a proporção de variação entre as variáveis observadas que pode ser atribuída a fatores subjacentes.\n",
    "\n",
    "A medida KMO é um valor que varia entre 0 e 1. Valores próximos a 1 indicam que as correlações parciais entre variáveis são pequenas em comparação com as correlações totais, sugerindo que a estrutura de fatores é forte e clara. Valores próximos a 0 sugerem o contrário.\n",
    "\n",
    "Aqui está como interpretar os valores de KMO:\n",
    "\n",
    "- Valor de KMO Menos de 0,50: Inadequado para a análise fatorial.\n",
    "\n",
    "- Valor de KMO entre 0,50 e 0,70: Mediocre. A análise fatorial pode não ser útil, mas ainda assim pode ser realizada.\n",
    "\n",
    "- Valor de KMO entre 0,70 e 0,80: Bom. Isso sugere que a análise fatorial deve ser útil com os dados.\n",
    "\n",
    "- Valor de KMO entre 0,80 e 0,90: Ótimo. Indica que a estrutura fatorial dos dados é forte.\n",
    "\n",
    "- Valor de KMO acima de 0,90: Soberbo. Uma excelente indicação para a análise fatorial.\n",
    "\n",
    "Além da medida global de KMO, muitas implementações do teste KMO também fornecem medidas individuais de KMO para cada variável. Variáveis individuais com valores de KMO abaixo de 0,50 podem ser consideradas para exclusão da análise, pois elas não estão bem correlacionadas com as outras variáveis.\n",
    "\n"
   ]
  },
  {
   "cell_type": "code",
   "execution_count": 13,
   "id": "6116fb6b",
   "metadata": {},
   "outputs": [],
   "source": [
    "# Verificando a adequação dos dados usando o teste de Kaiser-Meyer-Olkin (KMO)\n",
    "kmo_all, kmo_model = calculate_kmo(df)"
   ]
  },
  {
   "cell_type": "code",
   "execution_count": 14,
   "id": "c15d02b3",
   "metadata": {},
   "outputs": [
    {
     "name": "stdout",
     "output_type": "stream",
     "text": [
      "KMO Global: 0.9121473737991193\n"
     ]
    }
   ],
   "source": [
    "print('KMO Global:', kmo_model)"
   ]
  },
  {
   "cell_type": "code",
   "execution_count": 15,
   "id": "9c74851d",
   "metadata": {},
   "outputs": [
    {
     "name": "stdout",
     "output_type": "stream",
     "text": [
      "KMO Por Variável: [0.91186467 0.91159232 0.91595516 0.91617474 0.90540011]\n"
     ]
    }
   ],
   "source": [
    "print('KMO Por Variável:',kmo_all)"
   ]
  },
  {
   "cell_type": "markdown",
   "id": "1d818d0f",
   "metadata": {},
   "source": [
    "> Se o valor KMO geral for maior que 0,6, a análise fatorial pode ser útil."
   ]
  },
  {
   "cell_type": "markdown",
   "id": "cc345b0d",
   "metadata": {},
   "source": [
    "## Análise Fatorial\n",
    "\n",
    "Quando você utiliza a FactorAnalyzer para realizar uma Análise Fatorial, você está tentando identificar fatores latentes (não observados diretamente) que podem explicar a variação e covariação entre as variáveis observadas em seu conjunto de dados."
   ]
  },
  {
   "cell_type": "code",
   "execution_count": 16,
   "id": "39eb7e85",
   "metadata": {},
   "outputs": [],
   "source": [
    "# Cria o analisador\n",
    "fa = FactorAnalyzer(rotation = \"varimax\")"
   ]
  },
  {
   "cell_type": "code",
   "execution_count": 17,
   "id": "7ad87a07",
   "metadata": {},
   "outputs": [
    {
     "data": {
      "text/html": [
       "<style>#sk-container-id-1 {color: black;}#sk-container-id-1 pre{padding: 0;}#sk-container-id-1 div.sk-toggleable {background-color: white;}#sk-container-id-1 label.sk-toggleable__label {cursor: pointer;display: block;width: 100%;margin-bottom: 0;padding: 0.3em;box-sizing: border-box;text-align: center;}#sk-container-id-1 label.sk-toggleable__label-arrow:before {content: \"▸\";float: left;margin-right: 0.25em;color: #696969;}#sk-container-id-1 label.sk-toggleable__label-arrow:hover:before {color: black;}#sk-container-id-1 div.sk-estimator:hover label.sk-toggleable__label-arrow:before {color: black;}#sk-container-id-1 div.sk-toggleable__content {max-height: 0;max-width: 0;overflow: hidden;text-align: left;background-color: #f0f8ff;}#sk-container-id-1 div.sk-toggleable__content pre {margin: 0.2em;color: black;border-radius: 0.25em;background-color: #f0f8ff;}#sk-container-id-1 input.sk-toggleable__control:checked~div.sk-toggleable__content {max-height: 200px;max-width: 100%;overflow: auto;}#sk-container-id-1 input.sk-toggleable__control:checked~label.sk-toggleable__label-arrow:before {content: \"▾\";}#sk-container-id-1 div.sk-estimator input.sk-toggleable__control:checked~label.sk-toggleable__label {background-color: #d4ebff;}#sk-container-id-1 div.sk-label input.sk-toggleable__control:checked~label.sk-toggleable__label {background-color: #d4ebff;}#sk-container-id-1 input.sk-hidden--visually {border: 0;clip: rect(1px 1px 1px 1px);clip: rect(1px, 1px, 1px, 1px);height: 1px;margin: -1px;overflow: hidden;padding: 0;position: absolute;width: 1px;}#sk-container-id-1 div.sk-estimator {font-family: monospace;background-color: #f0f8ff;border: 1px dotted black;border-radius: 0.25em;box-sizing: border-box;margin-bottom: 0.5em;}#sk-container-id-1 div.sk-estimator:hover {background-color: #d4ebff;}#sk-container-id-1 div.sk-parallel-item::after {content: \"\";width: 100%;border-bottom: 1px solid gray;flex-grow: 1;}#sk-container-id-1 div.sk-label:hover label.sk-toggleable__label {background-color: #d4ebff;}#sk-container-id-1 div.sk-serial::before {content: \"\";position: absolute;border-left: 1px solid gray;box-sizing: border-box;top: 0;bottom: 0;left: 50%;z-index: 0;}#sk-container-id-1 div.sk-serial {display: flex;flex-direction: column;align-items: center;background-color: white;padding-right: 0.2em;padding-left: 0.2em;position: relative;}#sk-container-id-1 div.sk-item {position: relative;z-index: 1;}#sk-container-id-1 div.sk-parallel {display: flex;align-items: stretch;justify-content: center;background-color: white;position: relative;}#sk-container-id-1 div.sk-item::before, #sk-container-id-1 div.sk-parallel-item::before {content: \"\";position: absolute;border-left: 1px solid gray;box-sizing: border-box;top: 0;bottom: 0;left: 50%;z-index: -1;}#sk-container-id-1 div.sk-parallel-item {display: flex;flex-direction: column;z-index: 1;position: relative;background-color: white;}#sk-container-id-1 div.sk-parallel-item:first-child::after {align-self: flex-end;width: 50%;}#sk-container-id-1 div.sk-parallel-item:last-child::after {align-self: flex-start;width: 50%;}#sk-container-id-1 div.sk-parallel-item:only-child::after {width: 0;}#sk-container-id-1 div.sk-dashed-wrapped {border: 1px dashed gray;margin: 0 0.4em 0.5em 0.4em;box-sizing: border-box;padding-bottom: 0.4em;background-color: white;}#sk-container-id-1 div.sk-label label {font-family: monospace;font-weight: bold;display: inline-block;line-height: 1.2em;}#sk-container-id-1 div.sk-label-container {text-align: center;}#sk-container-id-1 div.sk-container {/* jupyter's `normalize.less` sets `[hidden] { display: none; }` but bootstrap.min.css set `[hidden] { display: none !important; }` so we also need the `!important` here to be able to override the default hidden behavior on the sphinx rendered scikit-learn.org. See: https://github.com/scikit-learn/scikit-learn/issues/21755 */display: inline-block !important;position: relative;}#sk-container-id-1 div.sk-text-repr-fallback {display: none;}</style><div id=\"sk-container-id-1\" class=\"sk-top-container\"><div class=\"sk-text-repr-fallback\"><pre>FactorAnalyzer(rotation=&#x27;varimax&#x27;, rotation_kwargs={})</pre><b>In a Jupyter environment, please rerun this cell to show the HTML representation or trust the notebook. <br />On GitHub, the HTML representation is unable to render, please try loading this page with nbviewer.org.</b></div><div class=\"sk-container\" hidden><div class=\"sk-item\"><div class=\"sk-estimator sk-toggleable\"><input class=\"sk-toggleable__control sk-hidden--visually\" id=\"sk-estimator-id-1\" type=\"checkbox\" checked><label for=\"sk-estimator-id-1\" class=\"sk-toggleable__label sk-toggleable__label-arrow\">FactorAnalyzer</label><div class=\"sk-toggleable__content\"><pre>FactorAnalyzer(rotation=&#x27;varimax&#x27;, rotation_kwargs={})</pre></div></div></div></div></div>"
      ],
      "text/plain": [
       "FactorAnalyzer(rotation='varimax', rotation_kwargs={})"
      ]
     },
     "execution_count": 17,
     "metadata": {},
     "output_type": "execute_result"
    }
   ],
   "source": [
    "# Treina o analisador\n",
    "fa.fit(df)"
   ]
  },
  {
   "cell_type": "markdown",
   "id": "91b8b3f5",
   "metadata": {},
   "source": [
    "> Baseado no gráfico de cotovelo, podemos escolher o número de fatores onde o valor começa a se estabilizar."
   ]
  },
  {
   "cell_type": "code",
   "execution_count": 18,
   "id": "d54ccab0",
   "metadata": {},
   "outputs": [
    {
     "data": {
      "image/png": "[encoded data removed]",
      "text/plain": [
       "<Figure size 640x480 with 1 Axes>"
      ]
     },
     "metadata": {},
     "output_type": "display_data"
    }
   ],
   "source": [
    "# Verificando os autovalores\n",
    "eigen_values, vectors = fa.get_eigenvalues()\n",
    "plt.scatter(range(1, df.shape[1]+1), eigen_values)\n",
    "plt.plot(range(1, df.shape[1]+1), eigen_values)\n",
    "plt.title('Gráfico de Cotovelo')\n",
    "plt.xlabel('Fatores')\n",
    "plt.ylabel('Autovalor')\n",
    "plt.grid()\n",
    "plt.show()"
   ]
  },
  {
   "cell_type": "code",
   "execution_count": 19,
   "id": "0d4701fe",
   "metadata": {},
   "outputs": [],
   "source": [
    "import random\n",
    "random.seed(1)"
   ]
  },
  {
   "cell_type": "code",
   "execution_count": 20,
   "id": "5d5936fe",
   "metadata": {},
   "outputs": [
    {
     "data": {
      "text/html": [
       "<style>#sk-container-id-2 {color: black;}#sk-container-id-2 pre{padding: 0;}#sk-container-id-2 div.sk-toggleable {background-color: white;}#sk-container-id-2 label.sk-toggleable__label {cursor: pointer;display: block;width: 100%;margin-bottom: 0;padding: 0.3em;box-sizing: border-box;text-align: center;}#sk-container-id-2 label.sk-toggleable__label-arrow:before {content: \"▸\";float: left;margin-right: 0.25em;color: #696969;}#sk-container-id-2 label.sk-toggleable__label-arrow:hover:before {color: black;}#sk-container-id-2 div.sk-estimator:hover label.sk-toggleable__label-arrow:before {color: black;}#sk-container-id-2 div.sk-toggleable__content {max-height: 0;max-width: 0;overflow: hidden;text-align: left;background-color: #f0f8ff;}#sk-container-id-2 div.sk-toggleable__content pre {margin: 0.2em;color: black;border-radius: 0.25em;background-color: #f0f8ff;}#sk-container-id-2 input.sk-toggleable__control:checked~div.sk-toggleable__content {max-height: 200px;max-width: 100%;overflow: auto;}#sk-container-id-2 input.sk-toggleable__control:checked~label.sk-toggleable__label-arrow:before {content: \"▾\";}#sk-container-id-2 div.sk-estimator input.sk-toggleable__control:checked~label.sk-toggleable__label {background-color: #d4ebff;}#sk-container-id-2 div.sk-label input.sk-toggleable__control:checked~label.sk-toggleable__label {background-color: #d4ebff;}#sk-container-id-2 input.sk-hidden--visually {border: 0;clip: rect(1px 1px 1px 1px);clip: rect(1px, 1px, 1px, 1px);height: 1px;margin: -1px;overflow: hidden;padding: 0;position: absolute;width: 1px;}#sk-container-id-2 div.sk-estimator {font-family: monospace;background-color: #f0f8ff;border: 1px dotted black;border-radius: 0.25em;box-sizing: border-box;margin-bottom: 0.5em;}#sk-container-id-2 div.sk-estimator:hover {background-color: #d4ebff;}#sk-container-id-2 div.sk-parallel-item::after {content: \"\";width: 100%;border-bottom: 1px solid gray;flex-grow: 1;}#sk-container-id-2 div.sk-label:hover label.sk-toggleable__label {background-color: #d4ebff;}#sk-container-id-2 div.sk-serial::before {content: \"\";position: absolute;border-left: 1px solid gray;box-sizing: border-box;top: 0;bottom: 0;left: 50%;z-index: 0;}#sk-container-id-2 div.sk-serial {display: flex;flex-direction: column;align-items: center;background-color: white;padding-right: 0.2em;padding-left: 0.2em;position: relative;}#sk-container-id-2 div.sk-item {position: relative;z-index: 1;}#sk-container-id-2 div.sk-parallel {display: flex;align-items: stretch;justify-content: center;background-color: white;position: relative;}#sk-container-id-2 div.sk-item::before, #sk-container-id-2 div.sk-parallel-item::before {content: \"\";position: absolute;border-left: 1px solid gray;box-sizing: border-box;top: 0;bottom: 0;left: 50%;z-index: -1;}#sk-container-id-2 div.sk-parallel-item {display: flex;flex-direction: column;z-index: 1;position: relative;background-color: white;}#sk-container-id-2 div.sk-parallel-item:first-child::after {align-self: flex-end;width: 50%;}#sk-container-id-2 div.sk-parallel-item:last-child::after {align-self: flex-start;width: 50%;}#sk-container-id-2 div.sk-parallel-item:only-child::after {width: 0;}#sk-container-id-2 div.sk-dashed-wrapped {border: 1px dashed gray;margin: 0 0.4em 0.5em 0.4em;box-sizing: border-box;padding-bottom: 0.4em;background-color: white;}#sk-container-id-2 div.sk-label label {font-family: monospace;font-weight: bold;display: inline-block;line-height: 1.2em;}#sk-container-id-2 div.sk-label-container {text-align: center;}#sk-container-id-2 div.sk-container {/* jupyter's `normalize.less` sets `[hidden] { display: none; }` but bootstrap.min.css set `[hidden] { display: none !important; }` so we also need the `!important` here to be able to override the default hidden behavior on the sphinx rendered scikit-learn.org. See: https://github.com/scikit-learn/scikit-learn/issues/21755 */display: inline-block !important;position: relative;}#sk-container-id-2 div.sk-text-repr-fallback {display: none;}</style><div id=\"sk-container-id-2\" class=\"sk-top-container\"><div class=\"sk-text-repr-fallback\"><pre>FactorAnalyzer(n_factors=2, rotation=&#x27;varimax&#x27;, rotation_kwargs={})</pre><b>In a Jupyter environment, please rerun this cell to show the HTML representation or trust the notebook. <br />On GitHub, the HTML representation is unable to render, please try loading this page with nbviewer.org.</b></div><div class=\"sk-container\" hidden><div class=\"sk-item\"><div class=\"sk-estimator sk-toggleable\"><input class=\"sk-toggleable__control sk-hidden--visually\" id=\"sk-estimator-id-2\" type=\"checkbox\" checked><label for=\"sk-estimator-id-2\" class=\"sk-toggleable__label sk-toggleable__label-arrow\">FactorAnalyzer</label><div class=\"sk-toggleable__content\"><pre>FactorAnalyzer(n_factors=2, rotation=&#x27;varimax&#x27;, rotation_kwargs={})</pre></div></div></div></div></div>"
      ],
      "text/plain": [
       "FactorAnalyzer(n_factors=2, rotation='varimax', rotation_kwargs={})"
      ]
     },
     "execution_count": 20,
     "metadata": {},
     "output_type": "execute_result"
    }
   ],
   "source": [
    "# Realizando análise fatorial com 2 fatores \n",
    "fa = FactorAnalyzer(n_factors = 2, rotation = \"varimax\")\n",
    "fa.fit(df)"
   ]
  },
  {
   "cell_type": "code",
   "execution_count": 21,
   "id": "4e31b2bb",
   "metadata": {},
   "outputs": [
    {
     "name": "stdout",
     "output_type": "stream",
     "text": [
      "[[0.48663257 0.87081567]\n",
      " [0.76810496 0.44176484]\n",
      " [0.76546664 0.43017906]\n",
      " [0.73349503 0.46398842]\n",
      " [0.71912506 0.5010136 ]]\n"
     ]
    }
   ],
   "source": [
    "# Verificando a carga fatorial\n",
    "loadings = fa.loadings_\n",
    "print(loadings)"
   ]
  },
  {
   "cell_type": "code",
   "execution_count": 22,
   "id": "9105f7b7",
   "metadata": {},
   "outputs": [
    {
     "data": {
      "text/plain": [
       "array([0.99513119, 0.78514141, 0.77099321, 0.75330021, 0.76815547])"
      ]
     },
     "execution_count": 22,
     "metadata": {},
     "output_type": "execute_result"
    }
   ],
   "source": [
    "# Comunalidades \n",
    "fa.get_communalities()"
   ]
  },
  {
   "cell_type": "markdown",
   "id": "94c945ce",
   "metadata": {},
   "source": [
    "Vamos analisar a saída e interpretá-la passo a passo:\n",
    "\n",
    "**Cargas Fatoriais (Factor Loadings):**\n",
    "\n",
    "Após treinar o analisador (fa.fit(df)), você pode obter as cargas fatoriais com fa.loadings_. As cargas fatoriais indicam a relação linear entre cada variável e o fator. Uma carga fatorial alta (em valor absoluto) indica que a variável está fortemente relacionada com o fator. O sinal da carga fatorial indica a direção da relação.\n",
    "\n",
    "**Valores Próprios (Eigenvalues):**\n",
    "\n",
    "Você pode verificar os valores próprios com fa.eigenvalues_. Eles representam a quantidade de variação explicada por cada fator. Comumente, um critério chamado \"critério de Kaiser\" é usado, onde apenas fatores com valores próprios próximos de 1 são considerados significativos. No entanto, essa é apenas uma heurística e outras técnicas, como a análise do gráfico de cotovelo, também podem ser usadas.\n",
    "\n",
    "**Variação Explicada:**\n",
    "\n",
    "Isso indica a proporção da variação total nos dados que é explicada pelos fatores extraídos. Geralmente, em análises fatoriais, buscamos um conjunto menor de fatores que ainda capture uma boa proporção da variação total nos dados.\n",
    "\n",
    "**Rotação:**\n",
    "\n",
    "A rotação é uma técnica usada para tornar a saída da análise fatorial mais interpretável. A rotação Varimax tenta maximizar a variação das cargas fatoriais, tornando algumas cargas fatoriais o mais próximo possível de 0 e outras o mais próximo possível de 1 ou -1. Isso torna mais fácil identificar quais variáveis estão associadas a quais fatores.\n",
    "\n",
    "**Scores Fatoriais:**\n",
    "\n",
    "Após treinar o analisador, você pode usar fa.transform(df) para obter os scores fatoriais para cada observação em seu conjunto de dados. Os scores fatoriais representam a pontuação de cada observação em cada fator.\n",
    "\n",
    "**Comunalidades (Communalities):**\n",
    "\n",
    "As comunalidades, que podem ser acessadas com fa.get_communalities(), representam a proporção da variação em cada variável que é explicada pelos fatores. Um valor próximo de 1 indica que a variável é bem explicada pelos fatores, enquanto um valor próximo de 0 indica o contrário."
   ]
  },
  {
   "cell_type": "code",
   "execution_count": 23,
   "id": "6e5a4f8a",
   "metadata": {},
   "outputs": [
    {
     "name": "stdout",
     "output_type": "stream",
     "text": [
      "[[0.48663257 0.87081567]\n",
      " [0.76810496 0.44176484]\n",
      " [0.76546664 0.43017906]\n",
      " [0.73349503 0.46398842]\n",
      " [0.71912506 0.5010136 ]]\n"
     ]
    }
   ],
   "source": [
    "# Verificando a carga fatorial\n",
    "loadings = fa.loadings_\n",
    "print(loadings)"
   ]
  },
  {
   "cell_type": "code",
   "execution_count": 24,
   "id": "8ef7bd58",
   "metadata": {},
   "outputs": [
    {
     "data": {
      "text/plain": [
       "Index(['frequencia_compras', 'valor_medio', 'categoria_mais_comprada',\n",
       "       'tempo_loja', 'uso_app'],\n",
       "      dtype='object')"
      ]
     },
     "execution_count": 24,
     "metadata": {},
     "output_type": "execute_result"
    }
   ],
   "source": [
    "df.columns"
   ]
  },
  {
   "cell_type": "markdown",
   "id": "fee393af",
   "metadata": {},
   "source": [
    "**Interpretação:**\n",
    "\n",
    "Fator 1 (F1): Este fator tem cargas fatoriais fortes para valor_medio, categoria_mais_comprada, tempo_loja e uso_app, o que sugere que este fator pode estar relacionado ao \"envolvimento geral do cliente\" ou \"intensidade da relação do cliente com a loja\". Pode representar clientes que não apenas compram mais, mas também passam mais tempo na loja, compram em categorias específicas e usam o aplicativo com frequência.\n",
    "\n",
    "Fator 2 (F2): Este fator tem uma carga fatorial muito forte para frequencia_compras, sugerindo que pode estar relacionado à \"frequência de visitas à loja\" ou \"lealdade do cliente\". Pode representar clientes que visitam a loja com frequência, independentemente do valor gasto ou do tempo gasto na loja.\n",
    "\n",
    "Lembre-se de que a interpretação dos fatores depende não apenas dos loadings, mas também do contexto do negócio e do conhecimento substancial do domínio. A interpretação acima é baseada estritamente nos valores da carga fatorial do nosso modelo e deve ser ajustada com base em informações adicionais sobre os clientes e a loja."
   ]
  }
 ],
 "metadata": {
  "kernelspec": {
   "display_name": "Python 3 (ipykernel)",
   "language": "python",
   "name": "python3"
  },
  "language_info": {
   "codemirror_mode": {
    "name": "ipython",
    "version": 3
   },
   "file_extension": ".py",
   "mimetype": "text/x-python",
   "name": "python",
   "nbconvert_exporter": "python",
   "pygments_lexer": "ipython3",
   "version": "3.11.4"
  }
 },
 "nbformat": 4,
 "nbformat_minor": 5
}
